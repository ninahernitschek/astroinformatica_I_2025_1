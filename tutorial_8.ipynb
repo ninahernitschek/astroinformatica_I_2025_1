{
 "cells": [
  {
   "cell_type": "markdown",
   "metadata": {
    "slideshow": {
     "slide_type": "slide"
    }
   },
   "source": [
    "**Astroinformatica I (Semester 1 2025)**\n",
    "# Tutorial Session 8: Software Projects\n",
    "\n",
    "*N. Hernitschek*\n"
   ]
  },
  {
   "cell_type": "markdown",
   "metadata": {},
   "source": [
    "---\n",
    "## Contents\n",
    "* [Errors & Exceptions](#first-bullet)\n",
    "* [Debugging](#second-bullet)\n",
    "* [Testing](#third-bullet)\n",
    "* [Exercise](#fourth-bullet)\n",
    "* [Summary](#fifth-bullet)\n"
   ]
  },
  {
   "cell_type": "markdown",
   "metadata": {},
   "source": [
    "## 1. Errors & Exceptions <a class=\"anchor\" id=\"first-bullet\"></a>\n",
    "\n",
    "How exactly coding errors are handled depends on the programming language.\n",
    "Python is an interpreted language, and syntax errors are found by the Python parser. Arrows mark the last parsed command which gave an error. See the following example:\n"
   ]
  },
  {
   "cell_type": "code",
   "execution_count": 4,
   "metadata": {},
   "outputs": [
    {
     "ename": "NameError",
     "evalue": "name 'true' is not defined",
     "output_type": "error",
     "traceback": [
      "\u001b[0;31m---------------------------------------------------------------------------\u001b[0m",
      "\u001b[0;31mNameError\u001b[0m                                 Traceback (most recent call last)",
      "Cell \u001b[0;32mIn[4], line 2\u001b[0m\n\u001b[1;32m      1\u001b[0m \u001b[38;5;66;03m#true = True\u001b[39;00m\n\u001b[0;32m----> 2\u001b[0m \u001b[38;5;28;01mwhile\u001b[39;00m \u001b[43mtrue\u001b[49m:   \u001b[38;5;66;03m# True\u001b[39;00m\n\u001b[1;32m      3\u001b[0m     \u001b[38;5;28mprint\u001b[39m(\u001b[38;5;124m'\u001b[39m\u001b[38;5;124mHello world\u001b[39m\u001b[38;5;124m'\u001b[39m)\n",
      "\u001b[0;31mNameError\u001b[0m: name 'true' is not defined"
     ]
    }
   ],
   "source": [
    "#true = True\n",
    "while True:   # True\n",
    "    print('Hello world')"
   ]
  },
  {
   "cell_type": "markdown",
   "metadata": {},
   "source": [
    "Exceptions, on the other hand, are not syntax errors. Exceptions are caught during runtime. See the following examples:\n",
    "\n"
   ]
  },
  {
   "cell_type": "code",
   "execution_count": 5,
   "metadata": {},
   "outputs": [
    {
     "ename": "ZeroDivisionError",
     "evalue": "division by zero",
     "output_type": "error",
     "traceback": [
      "\u001b[0;31m---------------------------------------------------------------------------\u001b[0m",
      "\u001b[0;31mZeroDivisionError\u001b[0m                         Traceback (most recent call last)",
      "Cell \u001b[0;32mIn[5], line 1\u001b[0m\n\u001b[0;32m----> 1\u001b[0m \u001b[38;5;241;43m1\u001b[39;49m\u001b[38;5;241;43m/\u001b[39;49m\u001b[38;5;241;43m0\u001b[39;49m\n",
      "\u001b[0;31mZeroDivisionError\u001b[0m: division by zero"
     ]
    }
   ],
   "source": [
    "1/0\n"
   ]
  },
  {
   "cell_type": "code",
   "execution_count": 6,
   "metadata": {},
   "outputs": [
    {
     "ename": "TypeError",
     "evalue": "can only concatenate str (not \"int\") to str",
     "output_type": "error",
     "traceback": [
      "\u001b[0;31m---------------------------------------------------------------------------\u001b[0m",
      "\u001b[0;31mTypeError\u001b[0m                                 Traceback (most recent call last)",
      "Cell \u001b[0;32mIn[6], line 1\u001b[0m\n\u001b[0;32m----> 1\u001b[0m \u001b[38;5;124;43m'\u001b[39;49m\u001b[38;5;124;43m1\u001b[39;49m\u001b[38;5;124;43m'\u001b[39;49m\u001b[43m \u001b[49m\u001b[38;5;241;43m+\u001b[39;49m\u001b[43m \u001b[49m\u001b[38;5;241;43m1\u001b[39;49m\n",
      "\u001b[0;31mTypeError\u001b[0m: can only concatenate str (not \"int\") to str"
     ]
    }
   ],
   "source": [
    "'1' + 1"
   ]
  },
  {
   "cell_type": "markdown",
   "metadata": {},
   "source": []
  },
  {
   "cell_type": "markdown",
   "metadata": {},
   "source": [
    "We can also add our own exception handling. See the fllowing example where we try to open a file which doesn't exist:\n",
    "\n",
    "\n"
   ]
  },
  {
   "cell_type": "code",
   "execution_count": 8,
   "metadata": {},
   "outputs": [
    {
     "name": "stdout",
     "output_type": "stream",
     "text": [
      "No such file!\n"
     ]
    }
   ],
   "source": [
    "try:\n",
    "   file = open('filenamethatdoesnotexist.txt')\n",
    "except FileNotFoundError:\n",
    "   print('No such file!')\n",
    "   # create the file\n",
    "   #..."
   ]
  },
  {
   "cell_type": "markdown",
   "metadata": {},
   "source": [
    "Also in the following code example we use exception handling:\n"
   ]
  },
  {
   "cell_type": "code",
   "execution_count": 5,
   "metadata": {},
   "outputs": [
    {
     "ename": "NotImplementedError",
     "evalue": "Still need to write this code",
     "output_type": "error",
     "traceback": [
      "\u001b[0;31m---------------------------------------------------------------------------\u001b[0m",
      "\u001b[0;31mNotImplementedError\u001b[0m                       Traceback (most recent call last)",
      "Cell \u001b[0;32mIn[5], line 4\u001b[0m\n\u001b[1;32m      1\u001b[0m \u001b[38;5;28;01mdef\u001b[39;00m \u001b[38;5;21mnewfunction\u001b[39m():\n\u001b[1;32m      2\u001b[0m     \u001b[38;5;28;01mraise\u001b[39;00m \u001b[38;5;167;01mNotImplementedError\u001b[39;00m(\u001b[38;5;124m\"\u001b[39m\u001b[38;5;124mStill need to write this code\u001b[39m\u001b[38;5;124m\"\u001b[39m)\n\u001b[0;32m----> 4\u001b[0m \u001b[43mnewfunction\u001b[49m\u001b[43m(\u001b[49m\u001b[43m)\u001b[49m\n",
      "Cell \u001b[0;32mIn[5], line 2\u001b[0m, in \u001b[0;36mnewfunction\u001b[0;34m()\u001b[0m\n\u001b[1;32m      1\u001b[0m \u001b[38;5;28;01mdef\u001b[39;00m \u001b[38;5;21mnewfunction\u001b[39m():\n\u001b[0;32m----> 2\u001b[0m     \u001b[38;5;28;01mraise\u001b[39;00m \u001b[38;5;167;01mNotImplementedError\u001b[39;00m(\u001b[38;5;124m\"\u001b[39m\u001b[38;5;124mStill need to write this code\u001b[39m\u001b[38;5;124m\"\u001b[39m)\n",
      "\u001b[0;31mNotImplementedError\u001b[0m: Still need to write this code"
     ]
    }
   ],
   "source": [
    "def newfunction():\n",
    "    raise NotImplementedError(\"Still need to write this code\")\n",
    "    print(\"Still need...\")\n",
    "\n",
    "newfunction()\n"
   ]
  },
  {
   "cell_type": "markdown",
   "metadata": {},
   "source": [
    "One can also do various kinds of *type checking* like in the examples below:"
   ]
  },
  {
   "cell_type": "code",
   "execution_count": 10,
   "metadata": {},
   "outputs": [
    {
     "name": "stdout",
     "output_type": "stream",
     "text": [
      "Please enter an integer: a\n",
      "Casting  a  to integer.\n",
      "Input only integers!\n"
     ]
    }
   ],
   "source": [
    "s = input(\"Please enter an integer: \")  # s is a string\n",
    "if not isinstance(s, int):\n",
    "    try:\n",
    "       print(\"Casting \", s, \" to integer.\")\n",
    "       i = int(s)\n",
    "    except ValueError:\n",
    "        print(\"Input only integers!\")\n",
    "    #except FileNotFoundError:    \n",
    "\n",
    "\n"
   ]
  },
  {
   "cell_type": "code",
   "execution_count": 13,
   "metadata": {},
   "outputs": [
    {
     "name": "stdout",
     "output_type": "stream",
     "text": [
      "2\n"
     ]
    }
   ],
   "source": [
    "# Assert invariants\n",
    "\n",
    "if i % 3 == 0:\n",
    "    print(1)\n",
    "elif i % 3 == 1:\n",
    "    print(2)\n",
    "else:\n",
    "    assert i % 3 == 2\n",
    "    print(3)"
   ]
  },
  {
   "cell_type": "markdown",
   "metadata": {},
   "source": [
    "## 2. Debugging <a class=\"anchor\" id=\"second-bullet\"></a>\n",
    "\n",
    "\n",
    "Testing and debugging are essential aspects of software development, \n",
    "\n",
    "\n",
    "After testing - discovering that a bug exists -, the next challenge is finding where the bug is in code. There are a few tools for this.\n",
    "\n",
    "**Stack traces** are the messages the Python interpreter gives when there’s an uncaught exception (see examples above). At first, they may seem cryptic, but using them is pretty straight-forward. From bottom to top, the trace prints:\n",
    "\n",
    "    the error type and message (e.g. SyntaxError, IndexError,...)\n",
    "    the line in which the error happened\n",
    "    the function in which the error happened, along with the filename and line number\n",
    "    The filename, line number, and function that called the function with the error (and all the way up the stack)\n",
    "\n",
    "However, this isn't always enough, e.g. when a function returns the wrong value, or you’re not sure if a loop is behaving properly. The quick fall-back for this is to insert **print statements** wherever you’re unsure of the value.\n",
    "\n",
    "We try this in the following example with a broken average-taking function.\n",
    "\n"
   ]
  },
  {
   "cell_type": "code",
   "execution_count": 7,
   "metadata": {},
   "outputs": [
    {
     "ename": "ZeroDivisionError",
     "evalue": "division by zero",
     "output_type": "error",
     "traceback": [
      "\u001b[0;31m---------------------------------------------------------------------------\u001b[0m",
      "\u001b[0;31mZeroDivisionError\u001b[0m                         Traceback (most recent call last)",
      "Cell \u001b[0;32mIn[7], line 7\u001b[0m\n\u001b[1;32m      4\u001b[0m \u001b[38;5;28;01mdef\u001b[39;00m \u001b[38;5;21mbar\u001b[39m(y):\n\u001b[1;32m      5\u001b[0m     \u001b[38;5;28;01mreturn\u001b[39;00m foo(\u001b[38;5;241m1\u001b[39m\u001b[38;5;241m-\u001b[39my)\n\u001b[0;32m----> 7\u001b[0m \u001b[43mbar\u001b[49m\u001b[43m(\u001b[49m\u001b[38;5;241;43m1\u001b[39;49m\u001b[43m)\u001b[49m\n",
      "Cell \u001b[0;32mIn[7], line 5\u001b[0m, in \u001b[0;36mbar\u001b[0;34m(y)\u001b[0m\n\u001b[1;32m      4\u001b[0m \u001b[38;5;28;01mdef\u001b[39;00m \u001b[38;5;21mbar\u001b[39m(y):\n\u001b[0;32m----> 5\u001b[0m     \u001b[38;5;28;01mreturn\u001b[39;00m \u001b[43mfoo\u001b[49m\u001b[43m(\u001b[49m\u001b[38;5;241;43m1\u001b[39;49m\u001b[38;5;241;43m-\u001b[39;49m\u001b[43my\u001b[49m\u001b[43m)\u001b[49m\n",
      "Cell \u001b[0;32mIn[7], line 2\u001b[0m, in \u001b[0;36mfoo\u001b[0;34m(x)\u001b[0m\n\u001b[1;32m      1\u001b[0m \u001b[38;5;28;01mdef\u001b[39;00m \u001b[38;5;21mfoo\u001b[39m(x):\n\u001b[0;32m----> 2\u001b[0m     \u001b[38;5;28;01mreturn\u001b[39;00m \u001b[38;5;241;43m1\u001b[39;49m\u001b[38;5;241;43m/\u001b[39;49m\u001b[43mx\u001b[49m\n",
      "\u001b[0;31mZeroDivisionError\u001b[0m: division by zero"
     ]
    }
   ],
   "source": [
    "\n",
    "#folder = 'myfolder'\n",
    "#file = 'myfile.lc'\n",
    "#filename = folder + file\n",
    "#file = open(filename)\n",
    "\n",
    "#print(file) # myfoldermyfile.lc\n",
    "\n",
    "#########\n",
    "\n",
    "def foo(x):\n",
    "    return 1/x\n",
    "\n",
    "def bar(y):\n",
    "    return foo(1-y)\n",
    "\n",
    "bar(1)"
   ]
  },
  {
   "cell_type": "markdown",
   "metadata": {},
   "source": [
    "**Exercise:** try to debug and fix the above function."
   ]
  },
  {
   "cell_type": "markdown",
   "metadata": {},
   "source": [
    "There are a couple other problems with using `print()` for debugging:\n",
    "\n",
    "* you might forget to remove a print statement\n",
    "* it messes up unit tests\n",
    "* it corrupts the useful output to the user with debugging output\n",
    "\n",
    "For these reasons, it’s better to use the logging module to write debugging messages.\n",
    "\n",
    "Using `logging.debug()` instead of `print()` lets you output the debugging statements to a file, instead of stdout. Here is an example from the python docs:"
   ]
  },
  {
   "cell_type": "code",
   "execution_count": 23,
   "metadata": {},
   "outputs": [
    {
     "name": "stdout",
     "output_type": "stream",
     "text": [
      "done\n"
     ]
    },
    {
     "data": {
      "text/plain": [
       "'/home/nhernits/Documents/_uni/_Antofagasta/_teaching/2024/astroinformatica_I_2024_1/_tutorial_sessions/tutorial_8/example.log'"
      ]
     },
     "execution_count": 23,
     "metadata": {},
     "output_type": "execute_result"
    }
   ],
   "source": [
    "import logging\n",
    "logging.basicConfig(filename='example_error.log',level=logging.DEBUG)\n",
    "logging.debug('This message should go to the log file')\n",
    "logging.info('So should this')\n",
    "logging.warning('And this, too')\n",
    "logging.error('really bad error')\n",
    "print('done')\n",
    "logging.getLoggerClass().root.handlers[0].baseFilename\n",
    "\n"
   ]
  },
  {
   "cell_type": "markdown",
   "metadata": {},
   "source": [
    "*Exercise:* Try it with the above example.\n",
    "\n",
    "\n",
    "Creating logs this way will also automatically format the messages (which you can customize). This is a good way to provide debugging data to your users (including yourself), like warnings that their data is in the wrong format or that another function is better.\n",
    "\n"
   ]
  },
  {
   "cell_type": "markdown",
   "metadata": {},
   "source": [
    "## 2.1 Using a Debugger\n",
    "\n",
    "\n",
    "This is the more sophisticated way. You may have noticed that one annoyance with `print` or `log` is that you need to quit and restart Python whenever the function definition is changed.\n",
    "\n",
    "Python provides several tools and techniques to help with debugging. One of the most common advanced debugging tool is `pdb`, Python's built-in debugger.\n",
    "In the following, we will see how to use it."
   ]
  },
  {
   "cell_type": "markdown",
   "metadata": {},
   "source": [
    "To use `pdb`, you first need to import it, and add the line `pdb.set_trace()` where you'd like to start debugging. \n",
    "\n",
    "\n",
    "\n",
    "In the following example, we use `pdb.set_trace()` to set a breakpoint in our code. When executed, the program will pause at this line, allowing us to interactively inspect variables, execute code step by step, and diagnose the issue. When the execution is interrupted, we can use the following commands:\n",
    "\n",
    "`p <variable>` for printing the value of a variable\n",
    "    \n",
    "`n` to execute the next line\n",
    "\n",
    "`s` to step into a function call\n",
    "\n",
    "`c` to continue execution\n",
    "\n",
    "`!<code>` to run any line of Python (including changing values)\n",
    "    "
   ]
  },
  {
   "cell_type": "code",
   "execution_count": 25,
   "metadata": {},
   "outputs": [
    {
     "name": "stdout",
     "output_type": "stream",
     "text": [
      "> \u001b[0;32m/tmp/ipykernel_45652/2839550747.py\u001b[0m(5)\u001b[0;36mdivide_numbers\u001b[0;34m()\u001b[0m\n",
      "\u001b[0;32m      3 \u001b[0;31m\u001b[0;32mdef\u001b[0m \u001b[0mdivide_numbers\u001b[0m\u001b[0;34m(\u001b[0m\u001b[0ma\u001b[0m\u001b[0;34m,\u001b[0m \u001b[0mb\u001b[0m\u001b[0;34m)\u001b[0m\u001b[0;34m:\u001b[0m\u001b[0;34m\u001b[0m\u001b[0;34m\u001b[0m\u001b[0m\n",
      "\u001b[0m\u001b[0;32m      4 \u001b[0;31m    \u001b[0mpdb\u001b[0m\u001b[0;34m.\u001b[0m\u001b[0mset_trace\u001b[0m\u001b[0;34m(\u001b[0m\u001b[0;34m)\u001b[0m\u001b[0;34m\u001b[0m\u001b[0;34m\u001b[0m\u001b[0m\n",
      "\u001b[0m\u001b[0;32m----> 5 \u001b[0;31m    \u001b[0mresult\u001b[0m \u001b[0;34m=\u001b[0m \u001b[0ma\u001b[0m \u001b[0;34m/\u001b[0m \u001b[0mb\u001b[0m\u001b[0;34m\u001b[0m\u001b[0;34m\u001b[0m\u001b[0m\n",
      "\u001b[0m\u001b[0;32m      6 \u001b[0;31m    \u001b[0;32mreturn\u001b[0m \u001b[0mresult\u001b[0m\u001b[0;34m\u001b[0m\u001b[0;34m\u001b[0m\u001b[0m\n",
      "\u001b[0m\u001b[0;32m      7 \u001b[0;31m\u001b[0;34m\u001b[0m\u001b[0m\n",
      "\u001b[0m\n",
      "ipdb> !print(a)\n",
      "10\n",
      "ipdb> !a=20\n",
      "ipdb> !print(a)\n",
      "20\n",
      "--KeyboardInterrupt--\n",
      "\n",
      "KeyboardInterrupt: Interrupted by user\n"
     ]
    },
    {
     "ename": "ZeroDivisionError",
     "evalue": "division by zero",
     "output_type": "error",
     "traceback": [
      "\u001b[0;31m---------------------------------------------------------------------------\u001b[0m",
      "\u001b[0;31mZeroDivisionError\u001b[0m                         Traceback (most recent call last)",
      "Cell \u001b[0;32mIn[25], line 8\u001b[0m\n\u001b[1;32m      5\u001b[0m     result \u001b[38;5;241m=\u001b[39m a \u001b[38;5;241m/\u001b[39m b\n\u001b[1;32m      6\u001b[0m     \u001b[38;5;28;01mreturn\u001b[39;00m result\n\u001b[0;32m----> 8\u001b[0m \u001b[43mdivide_numbers\u001b[49m\u001b[43m(\u001b[49m\u001b[38;5;241;43m10\u001b[39;49m\u001b[43m,\u001b[49m\u001b[43m \u001b[49m\u001b[38;5;241;43m0\u001b[39;49m\u001b[43m)\u001b[49m\n\u001b[1;32m     11\u001b[0m \u001b[38;5;28;01mdef\u001b[39;00m \u001b[38;5;21maverage\u001b[39m(xs):\n\u001b[1;32m     12\u001b[0m     pdb\u001b[38;5;241m.\u001b[39mset_trace()\n",
      "Cell \u001b[0;32mIn[25], line 5\u001b[0m, in \u001b[0;36mdivide_numbers\u001b[0;34m(a, b)\u001b[0m\n\u001b[1;32m      3\u001b[0m \u001b[38;5;28;01mdef\u001b[39;00m \u001b[38;5;21mdivide_numbers\u001b[39m(a, b):\n\u001b[1;32m      4\u001b[0m     pdb\u001b[38;5;241m.\u001b[39mset_trace()\n\u001b[0;32m----> 5\u001b[0m     result \u001b[38;5;241m=\u001b[39m \u001b[43ma\u001b[49m\u001b[43m \u001b[49m\u001b[38;5;241;43m/\u001b[39;49m\u001b[43m \u001b[49m\u001b[43mb\u001b[49m\n\u001b[1;32m      6\u001b[0m     \u001b[38;5;28;01mreturn\u001b[39;00m result\n",
      "\u001b[0;31mZeroDivisionError\u001b[0m: division by zero"
     ]
    }
   ],
   "source": [
    "import pdb\n",
    "\n",
    "def divide_numbers(a, b):\n",
    "    pdb.set_trace()\n",
    "    result = a / b\n",
    "    return result\n",
    "\n",
    "divide_numbers(10, 0)\n",
    "\n",
    "\n",
    "def average(xs):\n",
    "    pdb.set_trace()\n",
    "    length = len(xs)\n",
    "    acc = 0\n",
    "    for i in range(1, length):\n",
    "        acc = acc + xs[i]\n",
    "    return acc/length\n"
   ]
  },
  {
   "cell_type": "markdown",
   "metadata": {},
   "source": [
    "\n",
    "Note: sometimes print debugging is still useful, like in a loop if you don't want to stop every iteration, but want to see the values as they come up.\n",
    "    \n",
    "More on the `pdb` debugger can be found in the documentation:\n",
    "\n",
    "https://docs.python.org/2/library/pdb.html"
   ]
  },
  {
   "cell_type": "markdown",
   "metadata": {},
   "source": [
    "## 3. Testing <a class=\"anchor\" id=\"third-bullet\"></a>\n",
    "\n",
    "\n",
    "Testing plays a vital role in ensuring that our code behaves as expected and meets the specified requirements. By writing tests, we can catch bugs early, validate our code's functionality, and facilitate code maintenance and refactoring. Python provides several testing frameworks, including the built-in `unittest` module and the third-party `pytest` library, which offers various features to make testing efficient and comprehensive. \n",
    "\n"
   ]
  },
  {
   "cell_type": "markdown",
   "metadata": {},
   "source": [
    "## 3.1 The `unittest` module\n",
    "\n",
    "\n",
    "The `unittest` module is part of Python's standard library and provides a framework for writing and running tests.  To get started with `unittest`, let's consider an example where we want to test a function that adds two numbers. We can create test cases by subclassing the `unittest.TestCase` class, which provides useful assertion methods for checking the expected behavior of our code:"
   ]
  },
  {
   "cell_type": "code",
   "execution_count": 27,
   "metadata": {},
   "outputs": [
    {
     "name": "stderr",
     "output_type": "stream",
     "text": [
      "F\n",
      "======================================================================\n",
      "FAIL: test_add_numbers (__main__.TestAddNumbers)\n",
      "----------------------------------------------------------------------\n",
      "Traceback (most recent call last):\n",
      "  File \"/tmp/ipykernel_45652/2618087838.py\", line 9, in test_add_numbers\n",
      "    self.assertEqual(result, 5)\n",
      "AssertionError: 5.1 != 5\n",
      "\n",
      "----------------------------------------------------------------------\n",
      "Ran 1 test in 0.004s\n",
      "\n",
      "FAILED (failures=1)\n"
     ]
    }
   ],
   "source": [
    "import unittest\n",
    "\n",
    "def add_numbers(a, b):\n",
    "    return a + b#+0.1\n",
    "\n",
    "class TestAddNumbers(unittest.TestCase):\n",
    "    def test_add_numbers(self):\n",
    "        result = add_numbers(2, 3)\n",
    "        self.assertEqual(result, 5)\n",
    "\n",
    "#if __name__ == \"__main__\": \n",
    "#    unittest.main() #you can execute it like that outside of Jupyter\n",
    "\n",
    "if __name__ == '__main__':\n",
    "    unittest.main(argv=['first-arg-is-ignored'], exit=False)"
   ]
  },
  {
   "cell_type": "markdown",
   "metadata": {},
   "source": [
    "\n",
    "In the above example, we define a test case `TestAddNumbers` that inherits from `unittest.TestCase`. The `test_add_numbers` method tests that `add_numbers` function by asserting that the result of adding 2 and 3 should be equal to 5. We run the tests by executing `unittest.main()`.\n",
    "\n",
    "\n"
   ]
  },
  {
   "cell_type": "markdown",
   "metadata": {},
   "source": [
    "## 3.2 The `pytest` framework\n",
    "\n",
    "\n",
    "\n",
    "Pytest (http://pytest.org) is a popular testing framework in the Python community that makes it easy to write and run advanced tests. It provides several features such as test discovery, test parameterization, and plugins that make testing more efficient and productive. Pytest is easy to install, and it integrates well with other testing tools.\n",
    "\n",
    "Let's extend our previous example using `pytest`.\n",
    "\n",
    "First, you need to install pytest using pip:\n",
    "\n"
   ]
  },
  {
   "cell_type": "code",
   "execution_count": 21,
   "metadata": {},
   "outputs": [
    {
     "name": "stdout",
     "output_type": "stream",
     "text": [
      "Defaulting to user installation because normal site-packages is not writeable\n",
      "Requirement already satisfied: pytest in /home/nhernits/.local/lib/python3.10/site-packages (7.4.0)\n",
      "Requirement already satisfied: packaging in /home/nhernits/.local/lib/python3.10/site-packages (from pytest) (23.0)\n",
      "Requirement already satisfied: iniconfig in /home/nhernits/.local/lib/python3.10/site-packages (from pytest) (2.0.0)\n",
      "Requirement already satisfied: pluggy<2.0,>=0.12 in /home/nhernits/.local/lib/python3.10/site-packages (from pytest) (1.2.0)\n",
      "Requirement already satisfied: exceptiongroup>=1.0.0rc8 in /home/nhernits/.local/lib/python3.10/site-packages (from pytest) (1.1.2)\n",
      "Requirement already satisfied: tomli>=1.0.0 in /home/nhernits/.local/lib/python3.10/site-packages (from pytest) (2.0.1)\n"
     ]
    }
   ],
   "source": [
    "\n",
    "! pip install pytest"
   ]
  },
  {
   "cell_type": "markdown",
   "metadata": {},
   "source": [
    "Pytest discovers and runs tests by searching for files named `test_*.py` or `*_test.py? in your project directory and subdirectories. Let’s look at an example test using pytest:\n",
    "\n",
    "\n",
    "\n"
   ]
  },
  {
   "cell_type": "code",
   "execution_count": 20,
   "metadata": {},
   "outputs": [
    {
     "data": {
      "text/plain": [
       "<module 'pytest' from '/home/nhernits/.local/lib/python3.10/site-packages/pytest/__init__.py'>"
      ]
     },
     "execution_count": 20,
     "metadata": {},
     "output_type": "execute_result"
    }
   ],
   "source": [
    "\n",
    "# please copy the code below to a file called\n",
    "# test_example.py\n",
    "\n",
    "import pytest\n",
    "\n",
    "def add_numbers(a, b):\n",
    "    return a + b\n",
    "\n",
    "def test_add_numbers():\n",
    "    assert add_numbers(2, 3) == 5\n",
    "    assert add_numbers(5, 7) == 12  "
   ]
  },
  {
   "cell_type": "markdown",
   "metadata": {},
   "source": [
    "In the above example, we define a function `add_numbers`. We use the `assert` statement to check if the result of adding 2 and 3 is equal to 5.\n",
    "\n",
    "Simply copy the above code into a file `test_example.py` your project directory, then go to the command line (terminal, console) to execute the following command in your project directory in order to run tests in `pytest`:\n"
   ]
  },
  {
   "cell_type": "code",
   "execution_count": null,
   "metadata": {},
   "outputs": [],
   "source": [
    "pytest"
   ]
  },
  {
   "cell_type": "markdown",
   "metadata": {},
   "source": [
    "`pytest` automatically discovers and runs all the test files, reporting the test results with detailed information. It also provides advanced features like fixtures, parameterization and test discovery, which enable you to write more complex and efficient tests."
   ]
  },
  {
   "cell_type": "markdown",
   "metadata": {},
   "source": [
    "\n",
    "\n",
    "\n",
    "\n"
   ]
  },
  {
   "cell_type": "markdown",
   "metadata": {},
   "source": []
  },
  {
   "cell_type": "markdown",
   "metadata": {},
   "source": [
    "\n"
   ]
  },
  {
   "cell_type": "markdown",
   "metadata": {},
   "source": [
    "\n"
   ]
  },
  {
   "cell_type": "markdown",
   "metadata": {
    "slideshow": {
     "slide_type": "slide"
    }
   },
   "source": [
    "\n",
    "\n",
    "\n"
   ]
  },
  {
   "cell_type": "markdown",
   "metadata": {},
   "source": [
    "## 4 Exercise <a class=\"anchor\" id=\"fourth-bullet\"></a>\n",
    "\n",
    "\n",
    "If you have time left, create and try to debug and test more complex examples.\n"
   ]
  },
  {
   "cell_type": "markdown",
   "metadata": {},
   "source": [
    "\n",
    "\n"
   ]
  },
  {
   "cell_type": "markdown",
   "metadata": {
    "slideshow": {
     "slide_type": "slide"
    }
   },
   "source": [
    "## Summary <a class=\"anchor\" id=\"fifth-bullet\"></a>\n",
    "\n",
    "In this lession, we have learnt how to debug and test your code.\n",
    "\n",
    "This knowledge will be very valuable once you start writing more complex code. In combination with comments and documentation, you can ensure code quality which saves you and other users from a lot of frustration.\n",
    "\n",
    "\n"
   ]
  },
  {
   "cell_type": "code",
   "execution_count": null,
   "metadata": {},
   "outputs": [],
   "source": []
  }
 ],
 "metadata": {
  "anaconda-cloud": {},
  "kernelspec": {
   "display_name": "Python 3 (ipykernel)",
   "language": "python",
   "name": "python3"
  },
  "language_info": {
   "codemirror_mode": {
    "name": "ipython",
    "version": 3
   },
   "file_extension": ".py",
   "mimetype": "text/x-python",
   "name": "python",
   "nbconvert_exporter": "python",
   "pygments_lexer": "ipython3",
   "version": "3.12.3"
  }
 },
 "nbformat": 4,
 "nbformat_minor": 4
}
