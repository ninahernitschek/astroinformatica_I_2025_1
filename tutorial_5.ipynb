{
 "cells": [
  {
   "cell_type": "markdown",
   "metadata": {
    "slideshow": {
     "slide_type": "slide"
    }
   },
   "source": [
    "**Astroinformatica I (Semester 1 2025)**\n",
    "# Tutorial Session 5: Python Introduction\n",
    "\n",
    "*N. Hernitschek*\n"
   ]
  },
  {
   "cell_type": "markdown",
   "metadata": {},
   "source": [
    "---\n",
    "## Contents\n",
    "* [Python Review](#first-bullet)\n",
    "* [Packages, Libraries, Modules](#second-bullet)\n",
    "* [Coding Exercise](#third-bullet)\n",
    "* [Summary](#nineth-bullet)\n"
   ]
  },
  {
   "cell_type": "markdown",
   "metadata": {},
   "source": [
    "## 1. Python Review <a class=\"anchor\" id=\"first-bullet\"></a>\n",
    "\n",
    "Before we continue with specific coding exercises, please review the code examples we saw in the lecture.\n",
    "Reviewing code examples should include:\n",
    "* running the code\n",
    "* modifying the code to get a general understanding\n",
    "* trying to understand possible limitations of the code\n",
    "\n",
    "This will help you to get a better understanding of the Python syntax as well as of specific libraries.\n"
   ]
  },
  {
   "cell_type": "markdown",
   "metadata": {},
   "source": [
    "## 2. Packages, Libraries, Modules <a class=\"anchor\" id=\"second-bullet\"></a>\n",
    "\n",
    "One of the key features of Python is that the actual core language is fairly small. This is an intentional design feature to maintain simplicity. Much of the powerful functionality of Python is provided by modules and packages.\n",
    "\n",
    "We will focus especially on the installation of useful modules for scientific analysis.\n"
   ]
  },
  {
   "cell_type": "markdown",
   "metadata": {},
   "source": [
    "### Modules\n",
    "\n",
    "A module is a file containing Python definitions, functions, and statements. Putting code into modules is useful because of the ability to import the module functionality into your script or IPython session, for instance:\n",
    "\n",
    "\n",
    "\n",
    "\n"
   ]
  },
  {
   "cell_type": "code",
   "execution_count": 7,
   "metadata": {},
   "outputs": [
    {
     "name": "stdout",
     "output_type": "stream",
     "text": [
      "[  1.    1.5   2.    2.5   3.    3.5   4.    4.5   5.    5.5   6.    6.5\n",
      "   7.    7.5   8.    8.5   9.    9.5  10.   10.5  11.   11.5  12.   12.5\n",
      "  13.   13.5  14.   14.5  15.   15.5  16.   16.5  17.   17.5  18.   18.5\n",
      "  19.   19.5  20.   20.5  21.   21.5  22.   22.5  23.   23.5  24.   24.5\n",
      "  25.   25.5  26.   26.5  27.   27.5  28.   28.5  29.   29.5  30.   30.5\n",
      "  31.   31.5  32.   32.5  33.   33.5  34.   34.5  35.   35.5  36.   36.5\n",
      "  37.   37.5  38.   38.5  39.   39.5  40.   40.5  41.   41.5  42.   42.5\n",
      "  43.   43.5  44.   44.5  45.   45.5  46.   46.5  47.   47.5  48.   48.5\n",
      "  49.   49.5  50.   50.5  51.   51.5  52.   52.5  53.   53.5  54.   54.5\n",
      "  55.   55.5  56.   56.5  57.   57.5  58.   58.5  59.   59.5  60.   60.5\n",
      "  61.   61.5  62.   62.5  63.   63.5  64.   64.5  65.   65.5  66.   66.5\n",
      "  67.   67.5  68.   68.5  69.   69.5  70.   70.5  71.   71.5  72.   72.5\n",
      "  73.   73.5  74.   74.5  75.   75.5  76.   76.5  77.   77.5  78.   78.5\n",
      "  79.   79.5  80.   80.5  81.   81.5  82.   82.5  83.   83.5  84.   84.5\n",
      "  85.   85.5  86.   86.5  87.   87.5  88.   88.5  89.   89.5  90.   90.5\n",
      "  91.   91.5  92.   92.5  93.   93.5  94.   94.5  95.   95.5  96.   96.5\n",
      "  97.   97.5  98.   98.5  99.   99.5 100. ]\n"
     ]
    }
   ],
   "source": [
    "import numpy # good coding style\n",
    "\n",
    "start = 1\n",
    "step = 0.5\n",
    "stop = 100+step #if you want to include the stop\n",
    "\n",
    "x = numpy.arange(start,stop,step)\n",
    "print(x)\n",
    "\n",
    "\n",
    "# x = numpy.arange(start=0,stop=100)\n"
   ]
  },
  {
   "cell_type": "markdown",
   "metadata": {
    "slideshow": {
     "slide_type": "slide"
    }
   },
   "source": [
    "You will find `import` in almost every Python script.\n",
    "\n",
    "**Question:**\n",
    "    Importing modules and putting the module name in front is such a bother, why do I need to do this?\n",
    "    \n",
    "    \n",
    "**Answer:**\n",
    "    It keeps everything modular and separate. For instance many modules have a `read()` function since this is a common thing to do. Without using the `<module>.<function>(...)` syntax there would be no way to know which one to call. "
   ]
  },
  {
   "cell_type": "markdown",
   "metadata": {
    "collapsed": true,
    "slideshow": {
     "slide_type": "slide"
    }
   },
   "source": [
    "**Tip:** Sometimes it is convenient to import every function and definition from the module into the current namespace (in other words make them available without using the prefix).\n",
    "\n",
    "\n",
    "Python allows this with this syntax:\n",
    "\n",
    "`from module import *`\n",
    "\n",
    "That means to import every function and definition from the module into the current namespace (in other words make them available without prefixing). For instance you could do:\n",
    "\n",
    "\n",
    "\n"
   ]
  },
  {
   "cell_type": "code",
   "execution_count": 3,
   "metadata": {},
   "outputs": [
    {
     "name": "stdout",
     "output_type": "stream",
     "text": [
      "[ 0  1  2  3  4  5  6  7  8  9 10 11 12 13 14 15 16 17 18 19 20 21 22 23\n",
      " 24 25 26 27 28 29 30 31 32 33 34 35 36 37 38 39 40 41 42 43 44 45 46 47\n",
      " 48 49 50 51 52 53 54 55 56 57 58 59 60 61 62 63 64 65 66 67 68 69 70 71\n",
      " 72 73 74 75 76 77 78 79 80 81 82 83 84 85 86 87 88 89 90 91 92 93 94 95\n",
      " 96 97 98 99]\n"
     ]
    }
   ],
   "source": [
    "from numpy import * # no good coding style!\n",
    "y = arange(100)\n",
    "print(y)"
   ]
  },
  {
   "cell_type": "markdown",
   "metadata": {},
   "source": [
    "A general rule of thumb is that `from module import * is fine for interactive analysis within IPython but you should avoid using it within scripts where conflicts are more likely."
   ]
  },
  {
   "cell_type": "markdown",
   "metadata": {},
   "source": [
    "### Packages\n",
    "\n",
    "A package is simply a way of collecting related modules together within a single tree-like hierarchy. Very complex packages like NumPy or SciPy have hundreds of individual modules so putting them into a directory-like structure keeps things organized and avoids name collisions. \n",
    "\n",
    "**Exercise:** Import a package module and learn about it\n",
    "\n",
    "Import the Linear algebra module from the SciPy package and find out what functions it provides.\n",
    "\n"
   ]
  },
  {
   "cell_type": "code",
   "execution_count": 9,
   "metadata": {},
   "outputs": [
    {
     "name": "stdout",
     "output_type": "stream",
     "text": [
      "[[1. 2.]\n",
      " [3. 4.]]\n",
      "[[-2.   1. ]\n",
      " [ 1.5 -0.5]]\n",
      "[[1.0000000e+00 0.0000000e+00]\n",
      " [8.8817842e-16 1.0000000e+00]]\n"
     ]
    }
   ],
   "source": [
    "\n",
    "import numpy as np\n",
    "\n",
    "from scipy import linalg\n",
    "\n",
    "a = np.array([[1., 2.], [3., 4.]])\n",
    "\n",
    "b=linalg.inv(a)\n",
    "\n",
    "c= np.dot(a, b)\n",
    "\n",
    "print(a)\n",
    "\n",
    "print(b)\n",
    "\n",
    "print(c)\n",
    "\n"
   ]
  },
  {
   "cell_type": "markdown",
   "metadata": {},
   "source": []
  },
  {
   "cell_type": "markdown",
   "metadata": {},
   "source": [
    "### Finding and installing other packages\n",
    "\n",
    "Despite we cover here the most common scientific packages used in astronomy, physics and mathematics,\n",
    "is almost certain that you will eventually find a need that is not met within your current installation. Here we learn where to find other useful packages and how to install them.\n"
   ]
  },
  {
   "cell_type": "markdown",
   "metadata": {},
   "source": [
    "\n",
    "**PyPI**\n",
    "\n",
    "The Python Package Index PyPI is the main repository for 3rd party Python packages (about 14000 packages and growing). An increasing number of astronomy related packages are available on PyPI, but this list misses a lot of available options.\n",
    "\n",
    "The advantage of being on PyPI is the ease of installation using `pip3 install package_name`\n",
    "\n",
    "\n",
    "**Exercise:** Find one or more Python packages that will transform coordinates from Galactic to FK5 ecliptic.\n",
    "\n",
    "\n",
    "\n",
    "**Package installation**\n",
    "\n",
    "There are two standard methods for installing a package.\n",
    "\n",
    "The most common one is using `pip3 install`.\n",
    "\n",
    "The `pip3 install` script is available within our scientific Python installation and is very easy to use (when it works). During the installation process you already saw many examples of pip install in action. Features include:\n",
    "\n",
    "* If supplied with a package name then it will query the PyPI site to find out about that package. Assuming the package is there then pip install will automatically download and install the package.\n",
    "* Will accept a local tar file (assuming it contains an installable Python package) or a URL pointing to a tar file.\n",
    "* Can install in the user package area via `pip install <package or URL> --user` (but see discussion further down)\n",
    "\n",
    "\n",
    "Another way for installing a package is running an installation script:\n",
    "`python setup.py install`"
   ]
  },
  {
   "cell_type": "markdown",
   "metadata": {},
   "source": [
    "\n"
   ]
  },
  {
   "cell_type": "markdown",
   "metadata": {},
   "source": []
  },
  {
   "cell_type": "markdown",
   "metadata": {},
   "source": [
    "**Where do packages get installed?**\n",
    "\n",
    "An important option in the installation process is where to put the package files. There is a `--user` option in `pip3 install` and `python3 setup.py install`.\n",
    "\n",
    "Packages get installed in a local user-owned directory when you do something like either of the following:\n",
    "\n",
    "`pip3 install --user aplp`\n",
    "\n",
    "`pip install --user aplpy`\n",
    "\n",
    "`python3 setup.py install --user`\n",
    "\n",
    "\n",
    "This puts the packages into:\n",
    "\n",
    "Linux: \t~/.local/lib/python-3.x/site-packages\n",
    "\n",
    "Mac: \t~/Library/Python/3.x/lib/python/site-packages\n",
    "\n",
    "Windows: \t%APPDATA%/Python/Python3x/site-packages"
   ]
  },
  {
   "cell_type": "markdown",
   "metadata": {},
   "source": [
    "**How do I find a package once installed?**\n",
    "\n",
    "Finding the file associated with a package or module is simple: Just use the `help` command in IPython:\n",
    "\n",
    "`import scipy`\n",
    "\n",
    "`help scipy`\n",
    "\n",
    "This gives something like:\n",
    "\n",
    "\n",
    "```\n",
    "NAME\n",
    "    scipy\n",
    "\n",
    "FILE\n",
    "    /usr/local/lib/python2.6/site-packages/scipy/__init__.py\n",
    "\n",
    "DESCRIPTION\n",
    "    SciPy: A scientific computing package for Python\n",
    "    ================================================\n",
    "\n",
    "    Documentation is available in the docstrings and\n",
    "    online at http://docs.scipy.org.\n",
    "```\n",
    "\n",
    "    \n",
    "    \n",
    "    \n",
    "**Where does Python look for modules?**\n",
    "\n",
    "The official reference on *Modifying Python's Search Path* gives all the details. In summary:\n",
    "\n",
    "When the Python interpreter executes an import statement, it looks for modules on a search path. A default value for the path is configured into the Python binary when the interpreter is built. You can determine the path by importing the sys module and printing the value of sys.path:\n",
    "\n",
    "```\n",
    "$ python\n",
    "Python 2.2 (#11, Oct  3 2002, 13:31:27)\n",
    "[GCC 2.96 20000731 (Red Hat Linux 7.3 2.96-112)] on linux2\n",
    "Type \"help\", \"copyright\", \"credits\" or \"license\" for more information.\n",
    ">>> import sys\n",
    ">>> sys.path\n",
    "['', '/usr/local/lib/python2.3', '/usr/local/lib/python2.3/plat-linux2',\n",
    " '/usr/local/lib/python2.3/lib-tk', '/usr/local/lib/python2.3/lib-dynload',\n",
    " '/usr/local/lib/python2.3/site-packages']\n",
    ">>>\n",
    "```\n",
    "\n",
    "Within a script it is possible to adjust the search path by modify sys.path which is just a Python list. Generally speaking you will want to put your path at the front of the list using insert:\n",
    "\n",
    "```\n",
    "import sys\n",
    "sys.path.insert(0, '/my/path/python/packages')\n",
    "```\n",
    "\n",
    "You can also add paths to the search path using the PYTHONPATH environment variable.\n",
    "\n",
    "    \n",
    "**Uninstalling packages**\n",
    "\n",
    "There is no simple and fully consistent way to do this unless you use solutions like Anaconda or Canopy (this is why I recommend using Anaconda!). The Python community is working on this one. In most simple cases, however, you can just delete the module file or directory that is revealed by the technique shown above.\n"
   ]
  },
  {
   "cell_type": "markdown",
   "metadata": {
    "slideshow": {
     "slide_type": "slide"
    }
   },
   "source": [
    "## 3. Coding Exercise <a class=\"anchor\" id=\"third-bullet\"></a>\n",
    "\n",
    "We continue with coding exercises that build upon what we have learned so far.\n",
    "\n",
    "\n",
    "### 3.1 Problem 1\n",
    "\n",
    "The phase of a variable star with period P is the decimal part of t/P where t\n",
    "is the elapsed time since a given date. Calculate the phase when t = 3456.789\n",
    "days and the period is P = 1.5 days (with phase = 0 at $t_0$ = 0).\n",
    "\n",
    "\n",
    "### 3.2 Problem 2\n",
    "\n",
    "Write a script that takes three command line arguments, the first a temperature as a number, the second an input unit (C, K, F) and the third an output\n",
    "unit (C, K, F). Your script should then convert the input from (Celsius, Kelvin\n",
    "or Fahrenheit) to the specified output as in the output unit. You can look up online how to use command line arguments.\n",
    "\n",
    "\n"
   ]
  },
  {
   "cell_type": "markdown",
   "metadata": {
    "slideshow": {
     "slide_type": "slide"
    }
   },
   "source": [
    "## Summary <a class=\"anchor\" id=\"nineth-bullet\"></a>\n",
    "\n",
    "At this point, all of you should have:\n",
    "* a working Python3 installation, e.g. using the Anaconda/Miniconda Python Distribution\n",
    "* understanding on how to write simple Python scripts.\n",
    "\n",
    "Now we're ready to do more serious coding!"
   ]
  },
  {
   "cell_type": "code",
   "execution_count": null,
   "metadata": {},
   "outputs": [],
   "source": []
  }
 ],
 "metadata": {
  "anaconda-cloud": {},
  "kernelspec": {
   "display_name": "Python 3 (ipykernel)",
   "language": "python",
   "name": "python3"
  },
  "language_info": {
   "codemirror_mode": {
    "name": "ipython",
    "version": 3
   },
   "file_extension": ".py",
   "mimetype": "text/x-python",
   "name": "python",
   "nbconvert_exporter": "python",
   "pygments_lexer": "ipython3",
   "version": "3.10.12"
  }
 },
 "nbformat": 4,
 "nbformat_minor": 1
}
